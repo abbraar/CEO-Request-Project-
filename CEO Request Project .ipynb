{
 "cells": [
  {
   "cell_type": "markdown",
   "id": "6188efa8",
   "metadata": {
    "slideshow": {
     "slide_type": "slide"
    }
   },
   "source": [
    "# *CEO-Request Challenge: Improving Olist's Profit*📈💲\n"
   ]
  },
  {
   "cell_type": "markdown",
   "id": "6fd4a9ee",
   "metadata": {
    "slideshow": {
     "slide_type": "subslide"
    }
   },
   "source": [
    "## Problem Statement 💡\n",
    "\n",
    "*How can Olist increase its profitability?*\n",
    "\n",
    "\n"
   ]
  },
  {
   "cell_type": "markdown",
   "id": "fc2bda86",
   "metadata": {
    "slideshow": {
     "slide_type": "subslide"
    }
   },
   "source": [
    "## Key Findings 📊\n",
    "\n",
    "1- *Wait time is the primary factor influencing low review scores.*\n",
    "\n",
    "2- *Seller selection can significantly impact wait time and reduce bad reviews.*\n",
    "\n",
    "3- *Seller and product-related issues contribute to negative reviews.*\n",
    "\n",
    "4- *Olist's IT costs scale with the number of sellers and items sold.*"
   ]
  },
  {
   "cell_type": "markdown",
   "id": "39d41934",
   "metadata": {
    "slideshow": {
     "slide_type": "subslide"
    }
   },
   "source": [
    "## Hypotheses Overview 💡\n",
    "\n",
    "**First Hypothesis** (Remove Under-Performing Sellers from Marketplace) 🚫🛒\n",
    "Olist can increase profits by removing underperforming sellers who generate low profits and high costs, particularly IT costs.\n",
    "\n",
    "**Second Hypothesis** (Remove Worst-Performing Categories) 🛑\n",
    "Olist should remove the worst-performing product categories with low review scores and long wait times to reduce negative customer feedback and improve overall satisfaction.\n",
    "\n",
    "**Third Hypothesis** (Tiered Seller Program) 🏅\n",
    "Implementing a tiered seller program based on performance (e.g., review scores, delivery times) can optimize subscription fees and incentivize seller improvements, thereby increasing profitability."
   ]
  },
  {
   "cell_type": "markdown",
   "id": "d0439ccc",
   "metadata": {
    "slideshow": {
     "slide_type": "skip"
    }
   },
   "source": [
    "## Importing Necessary Libraries 📚"
   ]
  },
  {
   "cell_type": "code",
   "execution_count": 1,
   "id": "725fbd1f",
   "metadata": {
    "slideshow": {
     "slide_type": "skip"
    }
   },
   "outputs": [],
   "source": [
    "from olist.seller import Seller \n",
    "from olist.product import Product\n",
    "\n",
    "import matplotlib.pyplot as plt\n",
    "import seaborn as sns\n",
    "import pandas as pd\n",
    "import numpy as np\n",
    "import math\n",
    "\n",
    "import warnings\n",
    "pd.options.mode.chained_assignment = None"
   ]
  },
  {
   "cell_type": "markdown",
   "id": "2caa3c21",
   "metadata": {
    "slideshow": {
     "slide_type": "slide"
    }
   },
   "source": [
    "<div style=\"border: 2px solid black; padding: 10px;\">\n",
    "  <h2 style=\"color: #643278;\">First Hypothesis (Remove Under-Performing Sellers from its Marketplace) 🚫🛒</h2>\n",
    "</div>\n"
   ]
  },
  {
   "cell_type": "markdown",
   "id": "885e2a57",
   "metadata": {
    "slideshow": {
     "slide_type": "skip"
    }
   },
   "source": [
    "### <span style=\"color: green;\">Step 1</span>: Initialize Seller instance and load data \n"
   ]
  },
  {
   "cell_type": "code",
   "execution_count": 2,
   "id": "0ba16920",
   "metadata": {
    "slideshow": {
     "slide_type": "skip"
    }
   },
   "outputs": [],
   "source": [
    "seller_instance = Seller()\n",
    "seller_df = seller_instance.get_training_data()"
   ]
  },
  {
   "cell_type": "markdown",
   "id": "3be8a9ef",
   "metadata": {
    "slideshow": {
     "slide_type": "skip"
    }
   },
   "source": [
    "### <span style=\"color: green;\">Step 2</span>: Calculate Sales fees and Subscription fees \n"
   ]
  },
  {
   "cell_type": "code",
   "execution_count": 3,
   "id": "aae20cb3",
   "metadata": {
    "slideshow": {
     "slide_type": "skip"
    }
   },
   "outputs": [],
   "source": [
    "olist_sales_cut = 0.1\n",
    "olist_monthly_fee = 80\n",
    "\n",
    "# Add sales fees (10% of product sales)\n",
    "\n",
    "seller_df['Sales_fees'] = olist_sales_cut * seller_df['sales']\n",
    "\n",
    "# Add subscription fees (80 BRL per month per seller)\n",
    "\n",
    "seller_df['Subscription_fees'] = seller_df['months_on_olist'] * olist_monthly_fee"
   ]
  },
  {
   "cell_type": "markdown",
   "id": "64ce5616",
   "metadata": {
    "slideshow": {
     "slide_type": "skip"
    }
   },
   "source": [
    "### <span style=\"color: green;\">Step 3</span>: Calculate total revenues  \n",
    "\n"
   ]
  },
  {
   "cell_type": "code",
   "execution_count": 4,
   "id": "217756c3",
   "metadata": {
    "slideshow": {
     "slide_type": "skip"
    }
   },
   "outputs": [],
   "source": [
    "seller_df['revenues'] = seller_df['Sales_fees'] + seller_df['Subscription_fees']"
   ]
  },
  {
   "cell_type": "markdown",
   "id": "db207999",
   "metadata": {
    "slideshow": {
     "slide_type": "skip"
    }
   },
   "source": [
    "### <span style=\"color: green;\">Step 4</span>: Calculate profits \n"
   ]
  },
  {
   "cell_type": "code",
   "execution_count": 5,
   "id": "f8e30204",
   "metadata": {
    "slideshow": {
     "slide_type": "fragment"
    }
   },
   "outputs": [],
   "source": [
    "seller_df['profits'] = seller_df['revenues'] - seller_df['cost_of_reviews']"
   ]
  },
  {
   "cell_type": "markdown",
   "id": "87421e9e",
   "metadata": {
    "slideshow": {
     "slide_type": "fragment"
    }
   },
   "source": [
    "### <span style=\"color: green;\">Step 5</span>: Sort sellers by profits in ascending order \n",
    "\n"
   ]
  },
  {
   "cell_type": "code",
   "execution_count": 6,
   "id": "ac0fdf91",
   "metadata": {
    "slideshow": {
     "slide_type": "fragment"
    }
   },
   "outputs": [],
   "source": [
    "seller_df = seller_df.sort_values(by='profits').reset_index(drop=True)"
   ]
  },
  {
   "cell_type": "markdown",
   "id": "ac6bb218",
   "metadata": {
    "slideshow": {
     "slide_type": "subslide"
    }
   },
   "source": [
    "### <span style=\"color: green;\">Step 6:</span> Define IT cost function \n",
    "\n",
    "$IT\\_costs = \\alpha * \\sqrt{n\\_sellers} + \\beta * \\sqrt{n\\_items}$  \n",
    "Olist's data team gave us the following values for these scaling parameters:\n",
    "- $\\alpha = 3157.27$\n",
    "- $\\beta = 978.23$"
   ]
  },
  {
   "cell_type": "code",
   "execution_count": 7,
   "id": "cc257a00",
   "metadata": {
    "slideshow": {
     "slide_type": "fragment"
    }
   },
   "outputs": [],
   "source": [
    "def IT_cost(n_items, n_sellers):\n",
    "    alpha = 3157.27\n",
    "    beta = 978.23\n",
    "    return alpha * np.sqrt(n_sellers) + beta * np.sqrt(n_items)"
   ]
  },
  {
   "cell_type": "markdown",
   "id": "b498b367",
   "metadata": {
    "slideshow": {
     "slide_type": "subslide"
    }
   },
   "source": [
    "### <span style=\"color: green;\">Step 7</span>: Initial calculations \n"
   ]
  },
  {
   "cell_type": "code",
   "execution_count": 8,
   "id": "69d3a49a",
   "metadata": {
    "slideshow": {
     "slide_type": "fragment"
    }
   },
   "outputs": [
    {
     "name": "stdout",
     "output_type": "stream",
     "text": [
      " Initial IT cost = 499999.31851932954\n",
      " Initial Profit = 1167608.4440000001\n"
     ]
    }
   ],
   "source": [
    "initial_IT_cost = IT_cost(seller_df['quantity'].sum(), seller_df.shape[0])\n",
    "initial_profit = seller_df['profits'].sum()\n",
    "\n",
    "print(f\" Initial IT cost = {initial_IT_cost}\")\n",
    "\n",
    "print(f\" Initial Profit = {initial_profit}\")"
   ]
  },
  {
   "cell_type": "markdown",
   "id": "37b4c550",
   "metadata": {
    "slideshow": {
     "slide_type": "subslide"
    }
   },
   "source": [
    "### <span style=\"color: green;\">Step 8</span>: What-if analysis: Remove sellers with the lowest profits \n",
    "\n"
   ]
  },
  {
   "cell_type": "code",
   "execution_count": 9,
   "id": "f25f1afd",
   "metadata": {
    "slideshow": {
     "slide_type": "fragment"
    }
   },
   "outputs": [],
   "source": [
    "# List to store the results of profit and IT cost after each seller removal\n",
    "profits_after_removal = [] # List to store profit after each removal\n",
    "it_cost_after_removal = [] # List to store IT cost after each removal\n",
    "\n",
    "# Get total number of sellers\n",
    "n_sellers = seller_df.shape[0]\n",
    "\n",
    "# What-if analysis: Remove sellers one by one, recalculate profits and IT costs\n",
    "for i in range(1, n_sellers):\n",
    "    # Remove the lowest i sellers based on profits\n",
    "    remaining_sellers = seller_df.iloc[i:]\n",
    "    \n",
    "    # Recalculate the total number of items and sellers\n",
    "    remaining_items = remaining_sellers['quantity'].sum()\n",
    "    remaining_n_sellers = remaining_sellers.shape[0]\n",
    "    \n",
    "    # Recalculate IT cost and profits\n",
    "    updated_IT_cost = IT_cost(remaining_items, remaining_n_sellers)\n",
    "    updated_profit = remaining_sellers['profits'].sum() - updated_IT_cost\n",
    "    \n",
    "    # Store the results\n",
    "    profits_after_removal.append(updated_profit)\n",
    "    it_cost_after_removal.append(updated_IT_cost)"
   ]
  },
  {
   "cell_type": "markdown",
   "id": "df2fb051",
   "metadata": {
    "slideshow": {
     "slide_type": "subslide"
    }
   },
   "source": [
    "### <span style=\"color: green;\">Step 9</span>: Step 9: Find the optimal number of sellers to remove for maximum profit \n"
   ]
  },
  {
   "cell_type": "code",
   "execution_count": 10,
   "id": "e29c1cb4",
   "metadata": {
    "slideshow": {
     "slide_type": "fragment"
    }
   },
   "outputs": [
    {
     "name": "stdout",
     "output_type": "stream",
     "text": [
      "Optimal number of sellers to remove: 855\n",
      "Maximum Profit after removal: 1070976.1160162983\n",
      "Updated IT Cost after removal: 395957.2949837017\n"
     ]
    }
   ],
   "source": [
    "optimal_removal_idx = np.argmax(profits_after_removal)\n",
    "optimal_profit = profits_after_removal[optimal_removal_idx]\n",
    "optimal_it_cost = it_cost_after_removal[optimal_removal_idx]\n",
    "\n",
    "print(f\"Optimal number of sellers to remove: {optimal_removal_idx + 1}\")\n",
    "print(f\"Maximum Profit after removal: {optimal_profit}\")\n",
    "print(f\"Updated IT Cost after removal: {optimal_it_cost}\")"
   ]
  },
  {
   "cell_type": "markdown",
   "id": "e7b01c8d",
   "metadata": {
    "slideshow": {
     "slide_type": "subslide"
    }
   },
   "source": [
    "### <span style=\"color: green;\">Step 10</span>: Plot Profit and IT Cost before and after seller removal"
   ]
  },
  {
   "cell_type": "code",
   "execution_count": 11,
   "id": "2aa361f3",
   "metadata": {
    "slideshow": {
     "slide_type": "subslide"
    }
   },
   "outputs": [
    {
     "data": {
      "image/png": "[encoded data removed]",
      "text/plain": [
       "<Figure size 640x480 with 1 Axes>"
      ]
     },
     "metadata": {},
     "output_type": "display_data"
    }
   ],
   "source": [
    "before_removal = {\n",
    "    \"Profit\": 1167608.4440000001,\n",
    "    \"IT Cost\": 499999.31851932954\n",
    "}\n",
    "\n",
    "after_removal = {\n",
    "    \"Profit\": 1070976.1160162983,\n",
    "    \"IT Cost\": 395957.2949837017\n",
    "}\n",
    "\n",
    "categories = [\"Profit\", \"IT Cost\"]\n",
    "before_values = [before_removal[\"Profit\"], before_removal[\"IT Cost\"]]\n",
    "after_values = [after_removal[\"Profit\"], after_removal[\"IT Cost\"]]\n",
    "\n",
    "fig, ax = plt.subplots()\n",
    "\n",
    "bar_width = 0.35\n",
    "index = range(len(categories))\n",
    "\n",
    "bar1 = ax.bar(index, before_values, bar_width, label='Before Removal', color='blue')\n",
    "bar2 = ax.bar([i + bar_width for i in index], after_values, bar_width, label='After Removal', color='green')\n",
    "\n",
    "ax.set_xlabel('Category')\n",
    "ax.set_ylabel('Amount (BRL)')\n",
    "ax.set_title('Comparison of Profit and IT Cost Before and After Seller Removal')\n",
    "ax.set_xticks([i + bar_width / 2 for i in index])\n",
    "ax.set_xticklabels(categories)\n",
    "ax.legend()\n",
    "\n",
    "plt.tight_layout()\n",
    "plt.show()"
   ]
  },
  {
   "cell_type": "markdown",
   "id": "43e1680e",
   "metadata": {
    "slideshow": {
     "slide_type": "subslide"
    }
   },
   "source": [
    "**Key Takeaways:**\n",
    "    \n",
    "**Profit Decrease:** While the overall profit decreased due to lower revenue, Olist may be focusing on a more efficient set of sellers.\n",
    "\n",
    "**IT Cost Reduction:** The IT costs dropped substantially, which could contribute to improved cost efficiency.\n",
    "\n",
    "**Trade-off:** Olist has sacrificed some profit for cost efficiency, and this strategy may improve the profit margin while reducing total expenses."
   ]
  },
  {
   "cell_type": "markdown",
   "id": "310b65fe",
   "metadata": {
    "slideshow": {
     "slide_type": "subslide"
    }
   },
   "source": [
    "### <span style=\"color: green;\">Step 12</span>: Calculate the profit margins and plot the comparison before and after removing sellers📊"
   ]
  },
  {
   "cell_type": "code",
   "execution_count": 12,
   "id": "6ba3a4f2",
   "metadata": {
    "slideshow": {
     "slide_type": "subslide"
    }
   },
   "outputs": [
    {
     "data": {
      "image/png": "[encoded data removed]",
      "text/plain": [
       "<Figure size 640x480 with 1 Axes>"
      ]
     },
     "metadata": {},
     "output_type": "display_data"
    }
   ],
   "source": [
    "profit_before_removal = 1167608.4440000001\n",
    "profit_after_removal = 1070976.1160162983\n",
    "total_revenue_before_removal = 2785818.444\n",
    "total_revenue_after_removal = 2003182.463\n",
    "\n",
    "profit_margin_before_removal = (profit_before_removal / total_revenue_before_removal) * 100\n",
    "profit_margin_after_removal = (profit_after_removal / total_revenue_after_removal) * 100\n",
    "\n",
    "categories = [\"Before Removal\", \"After Removal\"]\n",
    "profit_margin_values = [profit_margin_before_removal, profit_margin_after_removal]\n",
    "\n",
    "fig, ax = plt.subplots()\n",
    "\n",
    "ax.bar(categories, profit_margin_values, color=['blue', 'green'])\n",
    "\n",
    "ax.set_xlabel('Scenario')\n",
    "ax.set_ylabel('Profit Margin (%)')\n",
    "ax.set_title('Comparison of Profit Margins Before and After Seller Removal')\n",
    "\n",
    "plt.tight_layout()\n",
    "plt.show()"
   ]
  },
  {
   "cell_type": "markdown",
   "id": "b135084a",
   "metadata": {
    "slideshow": {
     "slide_type": "subslide"
    }
   },
   "source": [
    "**Profit Margin:**\n",
    "\n",
    "*Before Removal:* 41.90%\n",
    "\n",
    "*After Removal:* 53.47%\n",
    "\n",
    "This shows an increase in profit margin after the removal, despite a decrease in total revenue and profit. The removal of underperforming sellers improved the company's efficiency in converting revenue into profit."
   ]
  },
  {
   "cell_type": "markdown",
   "id": "ebea7807",
   "metadata": {
    "slideshow": {
     "slide_type": "fragment"
    }
   },
   "source": [
    "### Conclusion of the First Hypothesis 📝\n",
    "\n",
    "Removing underperforming sellers improved **profit margin** (from 41.90% to 53.47%) by increasing efficiency, but it led to a **decrease in total profit** due to lower revenue. While this approach makes the company more efficient, it does not maximize profit on its own.\n",
    "\n",
    "### Recommendation:\n",
    "\n",
    "Combine this strategy with efforts to **increase revenue** through new or higher-performing sellers to achieve both higher profit margins and total profit growth."
   ]
  },
  {
   "cell_type": "markdown",
   "id": "2195e0af",
   "metadata": {
    "slideshow": {
     "slide_type": "slide"
    }
   },
   "source": [
    "<div style=\"border: 2px solid black; padding: 10px;\">\n",
    "  <h2 style=\"color: #643278;\">Second Hypothesis: (Remove the worst performing categories from Olist's marketplace) 🛑</h2>\n",
    "</div>\n"
   ]
  },
  {
   "cell_type": "markdown",
   "id": "e789ff09",
   "metadata": {
    "slideshow": {
     "slide_type": "subslide"
    }
   },
   "source": [
    "### <span style=\"color: green;\">Step 1:</span> Load the necessary data using the Product and Order classes  \n"
   ]
  },
  {
   "cell_type": "code",
   "execution_count": 13,
   "id": "5bfe509b",
   "metadata": {
    "slideshow": {
     "slide_type": "fragment"
    }
   },
   "outputs": [],
   "source": [
    "product = Product()  "
   ]
  },
  {
   "cell_type": "markdown",
   "id": "62479f96",
   "metadata": {
    "slideshow": {
     "slide_type": "subslide"
    }
   },
   "source": [
    "### <span style=\"color: green;\">Step 2:</span> Get the relevant product and order data \n"
   ]
  },
  {
   "cell_type": "code",
   "execution_count": 14,
   "id": "b613cf25",
   "metadata": {
    "slideshow": {
     "slide_type": "fragment"
    }
   },
   "outputs": [],
   "source": [
    "product_data = product.get_training_data()\n",
    "order_items = product.data['order_items']\n",
    "\n",
    "product_data = product_data.merge(order_items[['product_id', 'seller_id', 'freight_value']].drop_duplicates(), on='product_id', how='left')"
   ]
  },
  {
   "cell_type": "markdown",
   "id": "2092d525",
   "metadata": {
    "slideshow": {
     "slide_type": "fragment"
    }
   },
   "source": [
    "### <span style=\"color: green;\">Step 3:</span> Identify the worst-performing categories (categories with average review scores below 4) "
   ]
  },
  {
   "cell_type": "code",
   "execution_count": 15,
   "id": "ff2e66fa",
   "metadata": {
    "slideshow": {
     "slide_type": "fragment"
    }
   },
   "outputs": [],
   "source": [
    "underperforming_categories = product_data.groupby('category')['review_score'].mean().reset_index()\n",
    "underperforming_categories = underperforming_categories[underperforming_categories['review_score'] < 4]['category'].tolist()"
   ]
  },
  {
   "cell_type": "markdown",
   "id": "ab12a341",
   "metadata": {
    "slideshow": {
     "slide_type": "subslide"
    }
   },
   "source": [
    "### <span style=\"color: green;\">Step 4:</span> Filter out the worst-performing categories from the dataset\n",
    "\n"
   ]
  },
  {
   "cell_type": "code",
   "execution_count": 16,
   "id": "d7b89ffe",
   "metadata": {
    "slideshow": {
     "slide_type": "fragment"
    }
   },
   "outputs": [],
   "source": [
    "remaining_products_after_removal = product_data[~product_data['category'].isin(underperforming_categories)]"
   ]
  },
  {
   "cell_type": "markdown",
   "id": "6ebf83e2",
   "metadata": {
    "slideshow": {
     "slide_type": "fragment"
    }
   },
   "source": [
    "### <span style=\"color: green;\">Step 5:</span> Recalculate total number of items and sellers after removing underperforming categories\n"
   ]
  },
  {
   "cell_type": "code",
   "execution_count": 17,
   "id": "1e42d81d",
   "metadata": {
    "slideshow": {
     "slide_type": "fragment"
    }
   },
   "outputs": [],
   "source": [
    "remaining_items = remaining_products_after_removal.shape[0]\n",
    "remaining_n_sellers = remaining_products_after_removal['seller_id'].nunique()"
   ]
  },
  {
   "cell_type": "markdown",
   "id": "5820b708",
   "metadata": {
    "slideshow": {
     "slide_type": "subslide"
    }
   },
   "source": [
    "### <span style=\"color: green;\">Step 6:</span> Recalculate IT costs and total profit after removing these categories\n",
    "\n"
   ]
  },
  {
   "cell_type": "code",
   "execution_count": 18,
   "id": "bd460705",
   "metadata": {
    "slideshow": {
     "slide_type": "fragment"
    }
   },
   "outputs": [],
   "source": [
    "updated_IT_cost_after_removal = IT_cost(remaining_items, remaining_n_sellers)"
   ]
  },
  {
   "cell_type": "markdown",
   "id": "b043c7ce",
   "metadata": {
    "slideshow": {
     "slide_type": "fragment"
    }
   },
   "source": [
    "### <span style=\"color: green;\">Step 7:</span> Recalculate the total profit after removing these categories"
   ]
  },
  {
   "cell_type": "code",
   "execution_count": 19,
   "id": "a19d0af1",
   "metadata": {
    "slideshow": {
     "slide_type": "subslide"
    }
   },
   "outputs": [],
   "source": [
    "remaining_profit = remaining_products_after_removal['price'].sum() - remaining_products_after_removal['freight_value'].sum()"
   ]
  },
  {
   "cell_type": "markdown",
   "id": "901ea83a",
   "metadata": {
    "slideshow": {
     "slide_type": "fragment"
    }
   },
   "source": [
    "### <span style=\"color: green;\">Step 8:</span> Recalculate the profit margin after removing underperforming categories\n"
   ]
  },
  {
   "cell_type": "code",
   "execution_count": 20,
   "id": "5a7a8f09",
   "metadata": {
    "slideshow": {
     "slide_type": "fragment"
    }
   },
   "outputs": [],
   "source": [
    "total_revenue_after_removal = remaining_products_after_removal['price'].sum()\n",
    "profit_margin_after_removal = (remaining_profit / total_revenue_after_removal) * 100"
   ]
  },
  {
   "cell_type": "markdown",
   "id": "cd9f9b83",
   "metadata": {
    "slideshow": {
     "slide_type": "subslide"
    }
   },
   "source": [
    "### <span style=\"color: green;\">Step 9:</span> Compare the results before and after removal\n"
   ]
  },
  {
   "cell_type": "code",
   "execution_count": 21,
   "id": "81862442",
   "metadata": {
    "slideshow": {
     "slide_type": "fragment"
    }
   },
   "outputs": [
    {
     "name": "stdout",
     "output_type": "stream",
     "text": [
      "Updated IT Cost after removal: 388519.27944970684\n",
      "Remaining Profit after removal: 6619607.818825973\n",
      "Remaining Profit Margin after removal: 85.30373134759766%\n"
     ]
    }
   ],
   "source": [
    "print(f\"Updated IT Cost after removal: {updated_IT_cost_after_removal}\")\n",
    "print(f\"Remaining Profit after removal: {remaining_profit}\")\n",
    "print(f\"Remaining Profit Margin after removal: {profit_margin_after_removal}%\")"
   ]
  },
  {
   "cell_type": "markdown",
   "id": "803a5ec6",
   "metadata": {
    "slideshow": {
     "slide_type": "subslide"
    }
   },
   "source": [
    "### Conclusion of the Second Hypothesis 📝"
   ]
  },
  {
   "cell_type": "markdown",
   "id": "651b57ca",
   "metadata": {
    "slideshow": {
     "slide_type": "fragment"
    }
   },
   "source": [
    "After removing the worst-performing product categories, Olist's IT cost significantly decreased to BRL 393,382.77, and the remaining profit stood at BRL 7,385,757.86. Most notably, the profit margin increased to 85.92%, indicating that despite the removal of underperforming categories, Olist's profitability improved due to cost savings and a focus on better-performing products. This demonstrates that removing categories with poor review scores not only reduces costs but also enhances overall efficiency in converting revenue into profit.\n",
    "\n",
    "### Recommendation:\n",
    "\n",
    "Olist should proceed with the removal of the worst-performing categories from its marketplace. This strategy has resulted in lower operational costs and a significant improvement in profit margins. The company can further enhance profitability by focusing on high-performing categories, optimizing resource allocation, and streamlining operational efficiency."
   ]
  },
  {
   "cell_type": "markdown",
   "id": "b925f629",
   "metadata": {
    "slideshow": {
     "slide_type": "slide"
    }
   },
   "source": [
    "<div style=\"border: 2px solid black; padding: 10px;\">\n",
    "  <h2 style=\"color: #643278;\">Third Hypothesis (Tiered Seller Program) 🏅</h2>\n",
    "</div>\n"
   ]
  },
  {
   "cell_type": "markdown",
   "id": "7ebce1c6",
   "metadata": {
    "slideshow": {
     "slide_type": "subslide"
    }
   },
   "source": [
    "A new hypothesis to improve Olist's profit involves introducing a seller performance-based tier system. \n",
    "\n",
    "This approach could incentivize better seller behavior while allowing Olist to minimize reputation and IT costs:\n"
   ]
  },
  {
   "cell_type": "markdown",
   "id": "334f294a",
   "metadata": {
    "slideshow": {
     "slide_type": "fragment"
    }
   },
   "source": [
    "### <span style=\"color: green;\">Step 1:</span> Load data using the Order class from the Olist dataset  "
   ]
  },
  {
   "cell_type": "code",
   "execution_count": 22,
   "id": "137d425b",
   "metadata": {
    "slideshow": {
     "slide_type": "fragment"
    }
   },
   "outputs": [],
   "source": [
    "seller_instance = Seller()"
   ]
  },
  {
   "cell_type": "markdown",
   "id": "827524a2",
   "metadata": {
    "slideshow": {
     "slide_type": "subslide"
    }
   },
   "source": [
    "### <span style=\"color: green;\">Step 2:</span> Get the delay_to_carrier and review_score data using Seller methods "
   ]
  },
  {
   "cell_type": "code",
   "execution_count": 23,
   "id": "d8f5edd6",
   "metadata": {
    "slideshow": {
     "slide_type": "fragment"
    }
   },
   "outputs": [],
   "source": [
    "delay_wait_data = seller_instance.get_seller_delay_wait_time()  \n",
    "review_score_data = seller_instance.get_review_score() "
   ]
  },
  {
   "cell_type": "markdown",
   "id": "d247e7bc",
   "metadata": {
    "slideshow": {
     "slide_type": "fragment"
    }
   },
   "source": [
    "### <span style=\"color: green;\">Step 3:</span> Merge the Relevant Data into a Single DataFrame  "
   ]
  },
  {
   "cell_type": "code",
   "execution_count": 24,
   "id": "1eca3668",
   "metadata": {
    "slideshow": {
     "slide_type": "fragment"
    }
   },
   "outputs": [],
   "source": [
    "merged_data = delay_wait_data.merge(review_score_data, on='seller_id', how='left')"
   ]
  },
  {
   "cell_type": "markdown",
   "id": "18512e11",
   "metadata": {
    "slideshow": {
     "slide_type": "subslide"
    }
   },
   "source": [
    "### <span style=\"color: green;\">Step 4:</span> Compute Seller Performance Metrics \n"
   ]
  },
  {
   "cell_type": "code",
   "execution_count": 25,
   "id": "df0b46e9",
   "metadata": {
    "slideshow": {
     "slide_type": "fragment"
    }
   },
   "outputs": [],
   "source": [
    "seller_performance = merged_data.groupby('seller_id').agg({\n",
    "    'delay_to_carrier': 'mean',   \n",
    "    'review_score': 'mean'        \n",
    "}).reset_index()"
   ]
  },
  {
   "cell_type": "markdown",
   "id": "6c79afdf",
   "metadata": {
    "slideshow": {
     "slide_type": "subslide"
    }
   },
   "source": [
    "### <span style=\"color: green;\">Step 5:</span> Define Performance Tiers  \n",
    "\n",
    " based on delay_to_carrier and review_score"
   ]
  },
  {
   "cell_type": "code",
   "execution_count": 26,
   "id": "73a5df2b",
   "metadata": {
    "slideshow": {
     "slide_type": "subslide"
    }
   },
   "outputs": [],
   "source": [
    "def assign_tier(row):\n",
    "    if row['review_score'] >= 4.5 and row['delay_to_carrier'] < 2:\n",
    "        return 'Premium'\n",
    "    elif row['review_score'] >= 3 and row['delay_to_carrier'] < 5:\n",
    "        return 'Standard'\n",
    "    else:\n",
    "        return 'Low'\n",
    "    \n",
    "seller_performance['tier'] = seller_performance.apply(assign_tier, axis=1)"
   ]
  },
  {
   "cell_type": "markdown",
   "id": "5621ce1c",
   "metadata": {
    "slideshow": {
     "slide_type": "subslide"
    }
   },
   "source": [
    "### <span style=\"color: green;\">Step 6:</span> Adjust subscription fees based on the seller's tier  \n"
   ]
  },
  {
   "cell_type": "code",
   "execution_count": 27,
   "id": "dfa0261e",
   "metadata": {
    "slideshow": {
     "slide_type": "fragment"
    }
   },
   "outputs": [],
   "source": [
    "def adjust_fees(tier):\n",
    "    if tier == 'Premium':\n",
    "        return 60  \n",
    "    elif tier == 'Standard':\n",
    "        return 80  \n",
    "    else:\n",
    "        return 100  \n",
    "    \n",
    "seller_performance['adjusted_subscription_fee'] = seller_performance['tier'].apply(adjust_fees)"
   ]
  },
  {
   "cell_type": "markdown",
   "id": "69fda933",
   "metadata": {
    "slideshow": {
     "slide_type": "subslide"
    }
   },
   "source": [
    "### <span style=\"color: green;\">Step 7:</span> Display the Updated Seller Performance Data  \n"
   ]
  },
  {
   "cell_type": "code",
   "execution_count": 28,
   "id": "42163f6d",
   "metadata": {
    "slideshow": {
     "slide_type": "subslide"
    }
   },
   "outputs": [
    {
     "data": {
      "text/html": [
       "<div>\n",
       "<style scoped>\n",
       "    .dataframe tbody tr th:only-of-type {\n",
       "        vertical-align: middle;\n",
       "    }\n",
       "\n",
       "    .dataframe tbody tr th {\n",
       "        vertical-align: top;\n",
       "    }\n",
       "\n",
       "    .dataframe thead th {\n",
       "        text-align: right;\n",
       "    }\n",
       "</style>\n",
       "<table border=\"1\" class=\"dataframe\">\n",
       "  <thead>\n",
       "    <tr style=\"text-align: right;\">\n",
       "      <th></th>\n",
       "      <th>seller_id</th>\n",
       "      <th>delay_to_carrier</th>\n",
       "      <th>review_score</th>\n",
       "      <th>tier</th>\n",
       "      <th>adjusted_subscription_fee</th>\n",
       "    </tr>\n",
       "  </thead>\n",
       "  <tbody>\n",
       "    <tr>\n",
       "      <th>0</th>\n",
       "      <td>0015a82c2db000af6aaaf3ae2ecb0532</td>\n",
       "      <td>0.000000</td>\n",
       "      <td>3.666667</td>\n",
       "      <td>Standard</td>\n",
       "      <td>80</td>\n",
       "    </tr>\n",
       "    <tr>\n",
       "      <th>1</th>\n",
       "      <td>001cca7ae9ae17fb1caed9dfb1094831</td>\n",
       "      <td>0.000000</td>\n",
       "      <td>3.984772</td>\n",
       "      <td>Standard</td>\n",
       "      <td>80</td>\n",
       "    </tr>\n",
       "    <tr>\n",
       "      <th>2</th>\n",
       "      <td>002100f778ceb8431b7a1020ff7ab48f</td>\n",
       "      <td>0.000000</td>\n",
       "      <td>3.903846</td>\n",
       "      <td>Standard</td>\n",
       "      <td>80</td>\n",
       "    </tr>\n",
       "    <tr>\n",
       "      <th>3</th>\n",
       "      <td>003554e2dce176b5555353e4f3555ac8</td>\n",
       "      <td>0.000000</td>\n",
       "      <td>5.000000</td>\n",
       "      <td>Premium</td>\n",
       "      <td>60</td>\n",
       "    </tr>\n",
       "    <tr>\n",
       "      <th>4</th>\n",
       "      <td>004c9cd9d87a3c30c522c48c4fc07416</td>\n",
       "      <td>0.000000</td>\n",
       "      <td>4.136646</td>\n",
       "      <td>Standard</td>\n",
       "      <td>80</td>\n",
       "    </tr>\n",
       "    <tr>\n",
       "      <th>...</th>\n",
       "      <td>...</td>\n",
       "      <td>...</td>\n",
       "      <td>...</td>\n",
       "      <td>...</td>\n",
       "      <td>...</td>\n",
       "    </tr>\n",
       "    <tr>\n",
       "      <th>2965</th>\n",
       "      <td>ffc470761de7d0232558ba5e786e57b7</td>\n",
       "      <td>0.000000</td>\n",
       "      <td>4.444444</td>\n",
       "      <td>Standard</td>\n",
       "      <td>80</td>\n",
       "    </tr>\n",
       "    <tr>\n",
       "      <th>2966</th>\n",
       "      <td>ffdd9f82b9a447f6f8d4b91554cc7dd3</td>\n",
       "      <td>0.000000</td>\n",
       "      <td>4.333333</td>\n",
       "      <td>Standard</td>\n",
       "      <td>80</td>\n",
       "    </tr>\n",
       "    <tr>\n",
       "      <th>2967</th>\n",
       "      <td>ffeee66ac5d5a62fe688b9d26f83f534</td>\n",
       "      <td>0.730856</td>\n",
       "      <td>4.214286</td>\n",
       "      <td>Standard</td>\n",
       "      <td>80</td>\n",
       "    </tr>\n",
       "    <tr>\n",
       "      <th>2968</th>\n",
       "      <td>fffd5413c0700ac820c7069d66d98c89</td>\n",
       "      <td>0.000000</td>\n",
       "      <td>3.847458</td>\n",
       "      <td>Standard</td>\n",
       "      <td>80</td>\n",
       "    </tr>\n",
       "    <tr>\n",
       "      <th>2969</th>\n",
       "      <td>ffff564a4f9085cd26170f4732393726</td>\n",
       "      <td>0.000000</td>\n",
       "      <td>2.100000</td>\n",
       "      <td>Low</td>\n",
       "      <td>100</td>\n",
       "    </tr>\n",
       "  </tbody>\n",
       "</table>\n",
       "<p>2970 rows × 5 columns</p>\n",
       "</div>"
      ],
      "text/plain": [
       "                             seller_id  delay_to_carrier  review_score  \\\n",
       "0     0015a82c2db000af6aaaf3ae2ecb0532          0.000000      3.666667   \n",
       "1     001cca7ae9ae17fb1caed9dfb1094831          0.000000      3.984772   \n",
       "2     002100f778ceb8431b7a1020ff7ab48f          0.000000      3.903846   \n",
       "3     003554e2dce176b5555353e4f3555ac8          0.000000      5.000000   \n",
       "4     004c9cd9d87a3c30c522c48c4fc07416          0.000000      4.136646   \n",
       "...                                ...               ...           ...   \n",
       "2965  ffc470761de7d0232558ba5e786e57b7          0.000000      4.444444   \n",
       "2966  ffdd9f82b9a447f6f8d4b91554cc7dd3          0.000000      4.333333   \n",
       "2967  ffeee66ac5d5a62fe688b9d26f83f534          0.730856      4.214286   \n",
       "2968  fffd5413c0700ac820c7069d66d98c89          0.000000      3.847458   \n",
       "2969  ffff564a4f9085cd26170f4732393726          0.000000      2.100000   \n",
       "\n",
       "          tier  adjusted_subscription_fee  \n",
       "0     Standard                         80  \n",
       "1     Standard                         80  \n",
       "2     Standard                         80  \n",
       "3      Premium                         60  \n",
       "4     Standard                         80  \n",
       "...        ...                        ...  \n",
       "2965  Standard                         80  \n",
       "2966  Standard                         80  \n",
       "2967  Standard                         80  \n",
       "2968  Standard                         80  \n",
       "2969       Low                        100  \n",
       "\n",
       "[2970 rows x 5 columns]"
      ]
     },
     "execution_count": 28,
     "metadata": {},
     "output_type": "execute_result"
    }
   ],
   "source": [
    "seller_performance"
   ]
  },
  {
   "cell_type": "markdown",
   "id": "8616dc08",
   "metadata": {
    "slideshow": {
     "slide_type": "subslide"
    }
   },
   "source": [
    "### <span style=\"color: green;\">Step 8:</span> Visualize Results "
   ]
  },
  {
   "cell_type": "code",
   "execution_count": 29,
   "id": "053ba092",
   "metadata": {
    "scrolled": false,
    "slideshow": {
     "slide_type": "subslide"
    }
   },
   "outputs": [
    {
     "data": {
      "image/png": "[encoded data removed]",
      "text/plain": [
       "<Figure size 800x400 with 1 Axes>"
      ]
     },
     "metadata": {},
     "output_type": "display_data"
    }
   ],
   "source": [
    "plt.figure(figsize=(8, 4))\n",
    "tier_counts = seller_performance['tier'].value_counts()\n",
    "plt.bar(tier_counts.index, tier_counts.values, color=['green', 'orange', 'red'], edgecolor='black')\n",
    "plt.title('Number of Sellers in Each Tier')\n",
    "plt.xlabel('Seller Tier')\n",
    "plt.ylabel('Number of Sellers')\n",
    "#plt.grid(True)\n",
    "plt.show()"
   ]
  },
  {
   "cell_type": "markdown",
   "id": "52c18c24",
   "metadata": {
    "slideshow": {
     "slide_type": "subslide"
    }
   },
   "source": [
    "### Conclusion and Recommendation of the Third Hypothesis  📝"
   ]
  },
  {
   "cell_type": "markdown",
   "id": "8e5cf1b6",
   "metadata": {
    "slideshow": {
     "slide_type": "fragment"
    }
   },
   "source": [
    "The Tiered Seller Program is an effective way to categorize sellers based on performance. With around 1,600 sellers in the Standard tier, 1,000 in Premium, and fewer than 400 in Low, this program helps Olist manage seller quality and optimize subscription fees.\n",
    "\n",
    "* Premium sellers receive reduced fees as a reward for excellent service, encouraging continued high performance.\n",
    "\n",
    "* Low-performing sellers are charged higher fees, pushing them to improve or risk financial penalties.\n",
    "\n",
    "This approach aligns costs with performance, potentially increasing overall profitability by incentivizing better seller behavior while reducing costs associated with poor reviews and delivery delays."
   ]
  }
 ],
 "metadata": {
  "kernelspec": {
   "display_name": "Python 3 (ipykernel)",
   "language": "python",
   "name": "python3"
  },
  "language_info": {
   "codemirror_mode": {
    "name": "ipython",
    "version": 3
   },
   "file_extension": ".py",
   "mimetype": "text/x-python",
   "name": "python",
   "nbconvert_exporter": "python",
   "pygments_lexer": "ipython3",
   "version": "3.10.6"
  },
  "toc": {
   "base_numbering": 1,
   "nav_menu": {},
   "number_sections": true,
   "sideBar": true,
   "skip_h1_title": false,
   "title_cell": "Table of Contents",
   "title_sidebar": "Contents",
   "toc_cell": false,
   "toc_position": {},
   "toc_section_display": true,
   "toc_window_display": false
  }
 },
 "nbformat": 4,
 "nbformat_minor": 5
}
